{
 "cells": [
  {
   "cell_type": "code",
   "execution_count": 2,
   "metadata": {
    "collapsed": false
   },
   "outputs": [],
   "source": [
    "import pandas as pd\n",
    "import numpy as np\n",
    "from sklearn import metrics\n",
    "from sklearn.feature_extraction.text import CountVectorizer\n",
    "from sklearn.linear_model import LogisticRegression\n",
    "from sklearn.svm import SVC\n",
    "from __future__ import print_function\n",
    "from sklearn import datasets\n",
    "from sklearn.cross_validation  import train_test_split\n",
    "from sklearn.grid_search  import GridSearchCV\n",
    "from sklearn.metrics import classification_report\n",
    "\n",
    "def readData(filename,columns):\n",
    "    data = pd.read_csv(filename, sep=\"\\t\",header=None)\n",
    "    data.columns = columns\n",
    "    return data\n",
    "\n",
    "def expandCol(data,column_name):\n",
    "    cv = CountVectorizer(tokenizer=lambda x: x.split(\"/\"))\n",
    "    return cv.fit_transform(data[column_name].astype(str))\n",
    "\n",
    "def appendExpandedCol(data , vector_to_expand):\n",
    "    for key in vector_to_expand.keys():\n",
    "        col_list=[key+str(num) for num in range(vector_to_expand[key].shape[1])]\n",
    "    data =  pd.concat([data,pd.DataFrame(vector_to_expand[key].toarray(), columns=col_list)],axis=1)\n",
    "    return data\n",
    "\n",
    "def getQuestData():\n",
    "    vector_to_expand = {}    \n",
    "    question_data = readData('question_info.txt',[\"Q_id\",\"Q_tag\",\"Word_seq\",\"Q_Char_seq\",\"Likes\",\"Ans\",\"Top_Ans\"])\n",
    "    del question_data[\"Word_seq\"]\n",
    "    vector_to_expand[\"Q_tag\"] = expandCol(question_data,\"Q_tag\")\n",
    "    vector_to_expand[\"Q_Char_seq\"] = expandCol(question_data,\"Q_Char_seq\")\n",
    "    del question_data[\"Q_tag\"]\n",
    "    del question_data[\"Q_Char_seq\"]\n",
    "    return appendExpandedCol(question_data , vector_to_expand)\n",
    "\n",
    "def getExpData():\n",
    "    vector_to_expand = {}    \n",
    "    expert_data = readData('user_info.txt',[\"U_id\",\"U_tag\",\"U_Word_seq\",\"U_Char_seq\"])\n",
    "    del expert_data[\"U_Word_seq\"]\n",
    "    vector_to_expand[\"U_tag\"] = expandCol(expert_data,\"U_tag\")\n",
    "    vector_to_expand[\"U_Char_seq\"] = expandCol(expert_data,\"U_Char_seq\")\n",
    "    del expert_data[\"U_tag\"]\n",
    "    del expert_data[\"U_Char_seq\"]\n",
    "    return appendExpandedCol(expert_data , vector_to_expand)\n",
    "\n",
    "def SVCModel(data,combine_col,mergecol,expert_question_dist):\n",
    "    val_dict ={}\n",
    "    model_dict = {}\n",
    "    for id,per_dist in expert_question_dist.groupby([combine_col]):\n",
    "        final_data = pd.merge(data, per_dist, on=mergecol,how = 'inner')\n",
    "        #final_data = pd.merge(final_data, expert_data, on='U_id', how='inner')\n",
    "        del final_data[combine_col]\n",
    "        del final_data[mergecol]\n",
    "        final_target_user = final_data[\"output\"]\n",
    "        if len(final_data.output.unique()) == 1: \n",
    "            val_dict[id] = final_data.output.unique() \n",
    "            del final_data[\"output\"]\n",
    "        else:\n",
    "            del final_data[\"output\"]\n",
    "            model = SVC(probability=True)\n",
    "            model.fit(final_data, final_target_user)\n",
    "            model_dict[id] = model\n",
    "    return model_dict,val_dict\n",
    "\n",
    "   \n",
    "question_data = getQuestData()\n",
    "expert_data = getExpData()\n",
    "expert_question_dist = pd.read_csv('invited_info_train.txt', sep=\"\\t\",header=None)\n",
    "expert_question_dist.columns = [\"Q_id\",\"U_id\",\"output\"]\n",
    "e_model_dict,e_val_dict = SVCModel(question_data,\"U_id\",\"Q_id\",expert_question_dist)\n",
    "q_model_dict,q_val_dict = SVCModel(expert_data,\"Q_id\",\"U_id\",expert_question_dist)\n",
    "validation_data = pd.read_csv('validate_nolabel.txt', sep=\",\")[[0,1]]\n",
    "validation_data.columns = [\"Q_id\",\"U_id\"]\n"
   ]
  },
  {
   "cell_type": "code",
   "execution_count": 2,
   "metadata": {
    "collapsed": false
   },
   "outputs": [],
   "source": [
    "def get_Best_Param(X, y):\n",
    "    X_train, X_test, y_train, y_test = train_test_split(\n",
    "    X, y, test_size=0.2, random_state=0,stratify = y)\n",
    "\n",
    "    tuned_parameters = [{'kernel': ['rbf'], 'gamma': [1e-3, 1e-4],\n",
    "                     'C': [1, 10, 100, 1000]},\n",
    "                    {'kernel': ['linear'], 'C': [1, 10, 100, 1000]}]\n",
    "  \n",
    "    clf = GridSearchCV(SVC(C=1), tuned_parameters)\n",
    "    clf.fit(X_train, y_train)\n",
    "\n",
    "    print(\"Best parameters set found on development set:\")\n",
    "    print(clf.best_params_)\n",
    "    "
   ]
  },
  {
   "cell_type": "code",
   "execution_count": 4,
   "metadata": {
    "collapsed": false
   },
   "outputs": [],
   "source": [
    "def SVCPredict(combinecol,mergecol,data,validation_data,val_dict,model_dict):\n",
    "    final_predicted_data = pd.DataFrame()\n",
    "    for id,per_dist in validation_data.groupby(combinecol):\n",
    "        per_dist.reset_index(drop=True, inplace=True)\n",
    "        predicted_data = pd.merge(per_dist,data, on=mergecol, how='inner')\n",
    "        if id in val_dict.keys():\n",
    "            output =  np.empty([1,per_dist.shape[0]])\n",
    "            output.fill(val_dict[id][0])  \n",
    "            outputdf = pd.DataFrame(output.T)\n",
    "            outputdf.columns = [\"output\"]\n",
    "            final_predicted_data=final_predicted_data.append(pd.concat([per_dist,outputdf],axis=1),ignore_index=True)\n",
    "        elif id in model_dict.keys():\n",
    "            del predicted_data[\"Q_id\"]\n",
    "            del predicted_data[\"U_id\"] \n",
    "            predicted = model_dict[id].predict_proba(predicted_data)\n",
    "            outputdf = pd.DataFrame(pd.DataFrame(predicted)[1])\n",
    "            outputdf.columns = [\"output\"]\n",
    "            final_predicted_data=final_predicted_data.append(pd.concat([per_dist,outputdf],axis=1),ignore_index=True)\n",
    "        else:\n",
    "            output =  np.empty([1,per_dist.shape[0]])\n",
    "            output.fill(0)  \n",
    "            outputdf = pd.DataFrame(output.T)\n",
    "            outputdf.columns = [\"output\"]\n",
    "            final_predicted_data=final_predicted_data.append(pd.concat([per_dist,outputdf],axis=1),ignore_index=True)\n",
    "    return final_predicted_data\n",
    "\n",
    "final_predicted_data = SVCPredict(\"U_id\",\"Q_id\",question_data,validation_data,e_val_dict,e_model_dict)\n",
    "#final_predicted_data = SVCPredict(\"Q_id\",\"U_id\",expert_data,validation_data,q_val_dict,q_model_dict)\n",
    "final_predicted_data.to_csv('val.csv',sep=',', index=False, header = False)"
   ]
  },
  {
   "cell_type": "code",
   "execution_count": 4,
   "metadata": {
    "collapsed": false
   },
   "outputs": [],
   "source": []
  },
  {
   "cell_type": "code",
   "execution_count": 5,
   "metadata": {
    "collapsed": false
   },
   "outputs": [],
   "source": [
    "\n"
   ]
  },
  {
   "cell_type": "code",
   "execution_count": 6,
   "metadata": {
    "collapsed": false
   },
   "outputs": [],
   "source": []
  },
  {
   "cell_type": "code",
   "execution_count": 8,
   "metadata": {
    "collapsed": false
   },
   "outputs": [],
   "source": []
  },
  {
   "cell_type": "code",
   "execution_count": 9,
   "metadata": {
    "collapsed": false
   },
   "outputs": [],
   "source": []
  },
  {
   "cell_type": "code",
   "execution_count": 43,
   "metadata": {
    "collapsed": false
   },
   "outputs": [],
   "source": []
  },
  {
   "cell_type": "code",
   "execution_count": 11,
   "metadata": {
    "collapsed": false
   },
   "outputs": [],
   "source": []
  },
  {
   "cell_type": "code",
   "execution_count": 34,
   "metadata": {
    "collapsed": false,
    "scrolled": true
   },
   "outputs": [],
   "source": [
    "\n",
    "                "
   ]
  },
  {
   "cell_type": "code",
   "execution_count": null,
   "metadata": {
    "collapsed": true
   },
   "outputs": [],
   "source": []
  },
  {
   "cell_type": "code",
   "execution_count": null,
   "metadata": {
    "collapsed": true
   },
   "outputs": [],
   "source": []
  }
 ],
 "metadata": {
  "anaconda-cloud": {},
  "kernelspec": {
   "display_name": "Python [conda root]",
   "language": "python",
   "name": "conda-root-py"
  },
  "language_info": {
   "codemirror_mode": {
    "name": "ipython",
    "version": 2
   },
   "file_extension": ".py",
   "mimetype": "text/x-python",
   "name": "python",
   "nbconvert_exporter": "python",
   "pygments_lexer": "ipython2",
   "version": "2.7.12"
  }
 },
 "nbformat": 4,
 "nbformat_minor": 1
}
